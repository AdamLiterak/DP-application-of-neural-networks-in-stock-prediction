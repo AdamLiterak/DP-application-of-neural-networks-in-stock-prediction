{
  "nbformat": 4,
  "nbformat_minor": 0,
  "metadata": {
    "colab": {
      "name": "Model_C2.ipynb",
      "version": "0.3.2",
      "provenance": [],
      "collapsed_sections": [],
      "toc_visible": true
    },
    "kernelspec": {
      "name": "python3",
      "display_name": "Python 3"
    },
    "accelerator": "GPU"
  },
  "cells": [
    {
      "cell_type": "markdown",
      "metadata": {
        "id": "33k6Hov_F-ti",
        "colab_type": "text"
      },
      "source": [
        "## Model C2\n",
        "\n",
        "Modifikovaný model C1\n",
        "\n",
        "Model: vícevstupový\n",
        "\n",
        "Data: Technical indicators, HOLCV,  Ukazatel sentimentu sentdex, informace o vyhledávání = Daily sell / daily Buy vyhledávání GT, 2007 - duben 2019\n",
        "\n",
        "Dataset: aapl_data_2007_2019"
      ]
    },
    {
      "cell_type": "code",
      "metadata": {
        "id": "fI6nOhgMI-WR",
        "colab_type": "code",
        "colab": {}
      },
      "source": [
        "from numpy import concatenate\n",
        "from numpy import sqrt\n",
        "from matplotlib import pyplot\n",
        "from pandas import read_csv, read_excel\n",
        "from pandas import read_excel\n",
        "from pandas import DataFrame\n",
        "from pandas import concat\n",
        "from sklearn.preprocessing import MinMaxScaler\n",
        "from sklearn.preprocessing import LabelEncoder\n",
        "from sklearn.metrics import mean_squared_error\n",
        "\n",
        "from keras.models import Sequential\n",
        "from keras.layers import Dense, Activation\n",
        "from keras.layers import LSTM, Dropout\n",
        "import keras.optimizers"
      ],
      "execution_count": 0,
      "outputs": []
    },
    {
      "cell_type": "code",
      "metadata": {
        "id": "DG3_M0WZJDSb",
        "colab_type": "code",
        "colab": {}
      },
      "source": [
        "#TO SUPERVISED\n",
        "def series_to_supervised(data, n_in=1, n_out=1, dropnan=True):\n",
        "\n",
        "\tn_vars = 1 if type(data) is list else data.shape[1]\n",
        "\tdf = DataFrame(data)\n",
        "\tcols, names = list(), list()\n",
        "\t# input sequence (t-n, ... t-1)\n",
        "\tfor i in range(n_in, 0, -1):\n",
        "\t\tcols.append(df.shift(i))\n",
        "\t\tnames += [('var%d(t-%d)' % (j+1, i)) for j in range(n_vars)]\n",
        "\t# forecast sequence (t, t+1, ... t+n)\n",
        "\tfor i in range(0, n_out):\n",
        "\t\tcols.append(df.shift(-i))\n",
        "\t\tif i == 0:\n",
        "\t\t\tnames += [('var%d(t)' % (j+1)) for j in range(n_vars)]\n",
        "\t\telse:\n",
        "\t\t\tnames += [('var%d(t+%d)' % (j+1, i)) for j in range(n_vars)]\n",
        "\t# put it all together\n",
        "\tagg = concat(cols, axis=1)\n",
        "\tagg.columns = names\n",
        "\t# drop rows with NaN values\n",
        "\tif dropnan:\n",
        "\t\tagg.dropna(inplace=True)\n",
        "\treturn agg"
      ],
      "execution_count": 0,
      "outputs": []
    },
    {
      "cell_type": "code",
      "metadata": {
        "id": "c_iL_sYlJJe3",
        "colab_type": "code",
        "colab": {}
      },
      "source": [
        "dataset = read_excel('/content/KO_DATASET.xlsx', header=0, index_col=0)"
      ],
      "execution_count": 0,
      "outputs": []
    },
    {
      "cell_type": "markdown",
      "metadata": {
        "id": "UM3M5jv1Jcv5",
        "colab_type": "text"
      },
      "source": [
        "Column names:\n",
        "\n",
        "'Date',\t'High',\tLow,\tOpen,\tOpen_mov,\t'Open_bin',\t'Close',\t'Close_mov',\t'Close_bin',\t'Volume',\t'Volume_mov', Volume_bin', 'Adj Close',\t'rsi',\t'rsi_bin',\t'up_band',\t'mid_band',\t'low_band',\t'bbp',\t'bbp_bin',\t'ma5',\t'ma5_mov',\t'ma5_bin',\t'ma10',\t'ma10_mov',\t'ma10_bin',\t'ma20',\t'ema10',\t'ema10_mov',\t'ema_10_bin',\t'ema20',\t'ema20_mov',\t'ema20_bin',\t'macd12',\t'macd26',\t'macd9',\t'macd',\t'macd_bin',\t'mom',\t'mom_bin'\n",
        "\n",
        "['Close_bin','Open_bin','Open_bin', 'bbp_bin', 'ma5_bin', 'ma10_bin', 'ema_10_bin', 'macd_bin','rsi_bin', 'bbp_bin', 'mom_bin', 'AAPL_GT', 'AAPL_SENT']]"
      ]
    },
    {
      "cell_type": "code",
      "metadata": {
        "id": "Ki0qPbLvJ801",
        "colab_type": "code",
        "colab": {}
      },
      "source": [
        "#Určit, se kterými proměnnými bude model pracovat, ['Close','Volume','rsi','ma5','ma10','ma20','ema10','ema20','macd','mom']\n",
        "\n",
        "dataset = dataset[['Close_bin','Open_bin','Open_bin', 'bbp_bin', 'ma5_bin', 'ma10_bin', 'ema_10_bin', 'macd_bin','rsi_bin', 'bbp_bin', 'mom_bin', 'KO_GT', 'KO_SENT']]\n",
        "values = dataset.values"
      ],
      "execution_count": 0,
      "outputs": []
    },
    {
      "cell_type": "code",
      "metadata": {
        "id": "WZAC3UF0JTKZ",
        "colab_type": "code",
        "colab": {}
      },
      "source": [
        "# ensure all data is float\n",
        "values = values.astype('float32')\n"
      ],
      "execution_count": 0,
      "outputs": []
    },
    {
      "cell_type": "code",
      "metadata": {
        "id": "PPf8BdhRL2EI",
        "colab_type": "code",
        "colab": {}
      },
      "source": [
        "# frame as supervised learning\n",
        "#změněno na values ze scaled\n",
        "reframed = series_to_supervised(values, 10, 2)\n",
        "reframed = DataFrame(reframed)"
      ],
      "execution_count": 0,
      "outputs": []
    },
    {
      "cell_type": "markdown",
      "metadata": {
        "id": "Uw5sIA93MAOs",
        "colab_type": "text"
      },
      "source": [
        "Dropping columns not used for y output\n",
        "\n",
        "Dropnout všechny +1, kromě var4(t+1)\n",
        "\n",
        "reframed = reframed.drop(['var1(t+1)', 'var2(t+1)', 'var3(t+1)',\n",
        "                          'var5(t+1)', 'var6(t+1)', 'var7(t+1)',\n",
        "                          'var8(t+1)', 'var9(t+1)', 'var10(t+1)',\n",
        "                          'var11(t+1)', 'var12(t+1)', 'var13(t+1)',\n",
        "                          'var14(t+1)', 'var15(t+1)', 'var16(t+1)',\n",
        "                         'var17(t+1)', 'var18(t+1)', 'var19(t+1)',\n",
        "                          'var20(t+1)'], axis=1)\n",
        "                          \n",
        "                          'var5(t+1)', 'var6(t+1)', 'var7(t+1)',\n",
        "                          'var8(t+1)', 'var9(t+1)', 'var10(t+1)',  'var11(t+1)'"
      ]
    },
    {
      "cell_type": "code",
      "metadata": {
        "id": "GrPHyNeKMOc_",
        "colab_type": "code",
        "colab": {}
      },
      "source": [
        "#Upravit, dropnout správné\n",
        "reframed = reframed.drop(['var4(t+1)', 'var2(t+1)', 'var3(t+1)',\n",
        "                          'var5(t+1)', 'var6(t+1)', 'var7(t+1)','var8(t+1)','var9(t+1)', 'var10(t+1)', 'var11(t+1)','var12(t+1)','var13(t+1)'], axis =  1) "
      ],
      "execution_count": 0,
      "outputs": []
    },
    {
      "cell_type": "code",
      "metadata": {
        "id": "5DoevnDRMVzG",
        "colab_type": "code",
        "colab": {}
      },
      "source": [
        "#Časy: 1.1.2008 - 252, konec 2015 - 2266, konec 2017 - 2769 - při 60\n",
        "# split into train and test sets\n",
        "\n",
        "\n",
        "#Čas: 246: 1.1.2008, 2514 - konec 2016\n",
        "\n",
        "\n",
        "train = reframed.values[31:1041, :]\n",
        "validation = reframed.values[1041:1290, :]\n",
        "test = reframed.values[1290:, :]"
      ],
      "execution_count": 0,
      "outputs": []
    },
    {
      "cell_type": "code",
      "metadata": {
        "id": "MJtcgDuuiTGZ",
        "colab_type": "code",
        "colab": {}
      },
      "source": [
        "validation.shape"
      ],
      "execution_count": 0,
      "outputs": []
    },
    {
      "cell_type": "code",
      "metadata": {
        "id": "q_evFyM2QTM-",
        "colab_type": "code",
        "colab": {}
      },
      "source": [
        "#Train/test - ale je to vlastně train, validation.\n",
        "train_X, train_y = train[:, :-1], train[:, -1]\n",
        "validation_X, validation_y = validation[:, :-1], validation[:, -1]\n",
        "\n",
        "\n"
      ],
      "execution_count": 0,
      "outputs": []
    },
    {
      "cell_type": "code",
      "metadata": {
        "id": "LcLznF6lOMT7",
        "colab_type": "code",
        "colab": {}
      },
      "source": [
        "# reshape input to be 3D [samples, timesteps, features]\n",
        "# Tuhle část upravit, ověřit, jetsli to dává smysl\n",
        "train_X = train_X.reshape((train_X.shape[0], 1, train_X.shape[1]))\n",
        "validation_X = validation_X.reshape((validation_X.shape[0], 1, validation_X.shape[1]))\n",
        "print(train_X.shape, train_y.shape, validation_X.shape, validation_y.shape)"
      ],
      "execution_count": 0,
      "outputs": []
    },
    {
      "cell_type": "code",
      "metadata": {
        "id": "xyE7Rg7xOl4H",
        "colab_type": "code",
        "colab": {}
      },
      "source": [
        "model = Sequential()\n",
        "model.add(LSTM(100, return_sequences=True,input_shape=(train_X.shape[1], train_X.shape[2])))\n",
        "model.add(Dropout(0.4))\n",
        "# Fourth LSTM layer\n",
        "model.add(LSTM(units=50))\n",
        "model.add(Dropout(0.2))\n",
        "model.add(Dense(1, activation='sigmoid'))\n",
        "\n",
        "\n",
        "model.compile(loss='binary_crossentropy', optimizer='Adam', metrics=['accuracy'])\n",
        "\n",
        "model.summary()"
      ],
      "execution_count": 0,
      "outputs": []
    },
    {
      "cell_type": "markdown",
      "metadata": {
        "id": "bxGzayACGjPa",
        "colab_type": "text"
      },
      "source": [
        "Fiffing the model - trénování modelu pomocí trénovacích dat, validace pomocí validačních"
      ]
    },
    {
      "cell_type": "code",
      "metadata": {
        "id": "TSvO2U4KPIIT",
        "colab_type": "code",
        "colab": {}
      },
      "source": [
        "#Trénování modelu\n",
        "history = model.fit(train_X, train_y, epochs=7, batch_size=10, validation_data=(validation_X, validation_y), verbose=2, shuffle=False)"
      ],
      "execution_count": 0,
      "outputs": []
    },
    {
      "cell_type": "code",
      "metadata": {
        "id": "jEDmmG9uPNYO",
        "colab_type": "code",
        "colab": {}
      },
      "source": [
        "pyplot.figure(figsize=(10,6))\n",
        "pyplot.plot(history.history['acc'], label='Train set', color = '#18572D')\n",
        "pyplot.plot(history.history['val_acc'], label='Validation set', color = '#FF9000')\n",
        "pyplot.legend()\n",
        "pyplot.xlabel('Epochs')\n",
        "pyplot.ylabel('KO Test/Validation Accuracy')\n",
        "pyplot.show()"
      ],
      "execution_count": 0,
      "outputs": []
    },
    {
      "cell_type": "code",
      "metadata": {
        "id": "b0nxTcyijIAQ",
        "colab_type": "code",
        "colab": {}
      },
      "source": [
        "pyplot.figure(figsize=(10,6))\n",
        "pyplot.plot(history.history['loss'], label='Train set', color = '#18572D')\n",
        "pyplot.plot(history.history['val_loss'], label='Validation set', color = '#FF9000')\n",
        "pyplot.legend()\n",
        "pyplot.xlabel('Epochs')\n",
        "pyplot.ylabel('KO Test/Validation Loss')\n",
        "pyplot.show()"
      ],
      "execution_count": 0,
      "outputs": []
    },
    {
      "cell_type": "code",
      "metadata": {
        "id": "NXSPaluHxm6I",
        "colab_type": "code",
        "colab": {}
      },
      "source": [
        "#Ohodnocení pomocí accuracy, loss\n",
        "scores = model.evaluate(validation_X, validation_y, verbose=2)\n",
        "print(\"%.6f\" % (scores[1]))\n",
        "print(\"%.6f\" % (scores[0]))\n"
      ],
      "execution_count": 0,
      "outputs": []
    },
    {
      "cell_type": "markdown",
      "metadata": {
        "id": "OJhwnVFyG7Ui",
        "colab_type": "text"
      },
      "source": [
        "Predikce na validačních datech"
      ]
    },
    {
      "cell_type": "code",
      "metadata": {
        "id": "CEufrIY4Q695",
        "colab_type": "code",
        "colab": {}
      },
      "source": [
        "yhat_validation = model.predict(validation_X)\n",
        "yhat_validation"
      ],
      "execution_count": 0,
      "outputs": []
    },
    {
      "cell_type": "markdown",
      "metadata": {
        "id": "4Hlhes9PD8VR",
        "colab_type": "text"
      },
      "source": [
        "### Predikce na nových datech"
      ]
    },
    {
      "cell_type": "code",
      "metadata": {
        "id": "-2VWZPxEcJ7Z",
        "colab_type": "code",
        "colab": {}
      },
      "source": [
        "test_X = test[:, :-1]\n",
        "test_X = test_X.reshape((test_X.shape[0], 1, test_X.shape[1]))\n",
        "\n",
        "print(test_X.shape)\n",
        "\n",
        "yhat = model.predict(test_X)"
      ],
      "execution_count": 0,
      "outputs": []
    },
    {
      "cell_type": "code",
      "metadata": {
        "id": "XXi18Xq3t9ZE",
        "colab_type": "code",
        "colab": {}
      },
      "source": [
        "yhat.shape"
      ],
      "execution_count": 0,
      "outputs": []
    },
    {
      "cell_type": "markdown",
      "metadata": {
        "id": "LYovzFc-EsFP",
        "colab_type": "text"
      },
      "source": [
        "### Převedení výsledku do Excel, aby se s ním dalo nadále pracovat\n",
        "\n",
        "konečná přesnost je určena pomocí modelu v excelu, kde se srovnávají hodnoty reálné a binární hodnoty predikované- tedy půjde-li cena vzhůru či klesne-li"
      ]
    },
    {
      "cell_type": "code",
      "metadata": {
        "id": "5mulCAXbt8tm",
        "colab_type": "code",
        "colab": {}
      },
      "source": [
        "Vysledek = DataFrame(yhat)\n",
        "Vysledek.to_excel('/content/KO_C22_Vysledek.xlsx')"
      ],
      "execution_count": 0,
      "outputs": []
    }
  ]
}