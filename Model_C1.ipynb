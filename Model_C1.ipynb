{
  "nbformat": 4,
  "nbformat_minor": 0,
  "metadata": {
    "colab": {
      "name": "Model_C1.ipynb",
      "version": "0.3.2",
      "provenance": [],
      "collapsed_sections": []
    },
    "kernelspec": {
      "name": "python3",
      "display_name": "Python 3"
    }
  },
  "cells": [
    {
      "cell_type": "markdown",
      "metadata": {
        "id": "Yl5XhLGk28PO",
        "colab_type": "text"
      },
      "source": [
        "## Model C1\n",
        "\n",
        "Model: vícevstupový\n",
        "\n",
        "Data: Technical indicators, HOLCV, 2007 - duben 2019\n",
        "\n",
        "Dataset: aapl_data_2007_2019"
      ]
    },
    {
      "cell_type": "code",
      "metadata": {
        "id": "fI6nOhgMI-WR",
        "colab_type": "code",
        "outputId": "84716ab4-c006-47a7-e57b-01168471002d",
        "colab": {
          "base_uri": "https://localhost:8080/",
          "height": 34
        }
      },
      "source": [
        "from numpy import concatenate\n",
        "from numpy import sqrt\n",
        "from matplotlib import pyplot\n",
        "from pandas import read_csv, read_excel\n",
        "from pandas import read_excel\n",
        "from pandas import DataFrame\n",
        "from pandas import concat\n",
        "from sklearn.preprocessing import MinMaxScaler\n",
        "from sklearn.preprocessing import LabelEncoder\n",
        "from sklearn.metrics import mean_squared_error\n",
        "from keras.models import Sequential\n",
        "from keras.layers import Dense, Activation\n",
        "from keras.layers import LSTM, Dropout"
      ],
      "execution_count": 0,
      "outputs": [
        {
          "output_type": "stream",
          "text": [
            "Using TensorFlow backend.\n"
          ],
          "name": "stderr"
        }
      ]
    },
    {
      "cell_type": "markdown",
      "metadata": {
        "id": "nUJLX1cM3Ora",
        "colab_type": "text"
      },
      "source": [
        "Funkce umožňující přeměnu dat do formátu potřebného pro LSTM síť"
      ]
    },
    {
      "cell_type": "code",
      "metadata": {
        "id": "DG3_M0WZJDSb",
        "colab_type": "code",
        "colab": {}
      },
      "source": [
        "def series_to_supervised(data, n_in=1, n_out=1, dropnan=True):\n",
        "\tn_vars = 1 if type(data) is list else data.shape[1]\n",
        "\tdf = DataFrame(data)\n",
        "\tcols, names = list(), list()\n",
        "\t# Vstup\n",
        "\tfor i in range(n_in, 0, -1):\n",
        "\t\tcols.append(df.shift(i))\n",
        "\t\tnames += [('var%d(t-%d)' % (j+1, i)) for j in range(n_vars)]\n",
        "\t# predikce - formát (t, t+1, ... t+n)\n",
        "\tfor i in range(0, n_out):\n",
        "\t\tcols.append(df.shift(-i))\n",
        "\t\tif i == 0:\n",
        "\t\t\tnames += [('var%d(t)' % (j+1)) for j in range(n_vars)]\n",
        "\t\telse:\n",
        "\t\t\tnames += [('var%d(t+%d)' % (j+1, i)) for j in range(n_vars)]\n",
        "\t# spojení dat do souboru\n",
        "\tagg = concat(cols, axis=1)\n",
        "\tagg.columns = names\n",
        "\t# odstranění prázdných proměnných v začátku dat\n",
        "\tif dropnan:\n",
        "\t\tagg.dropna(inplace=True)\n",
        "\treturn agg"
      ],
      "execution_count": 0,
      "outputs": []
    },
    {
      "cell_type": "markdown",
      "metadata": {
        "id": "D21LZX8e3Qx8",
        "colab_type": "text"
      },
      "source": [
        "Import dat do prostředí Google Colab"
      ]
    },
    {
      "cell_type": "code",
      "metadata": {
        "id": "c_iL_sYlJJe3",
        "colab_type": "code",
        "colab": {}
      },
      "source": [
        "dataset = read_excel('/content/AAPL_DATA_FULL.xlsx', header=0, index_col=0)"
      ],
      "execution_count": 0,
      "outputs": []
    },
    {
      "cell_type": "markdown",
      "metadata": {
        "id": "UM3M5jv1Jcv5",
        "colab_type": "text"
      },
      "source": [
        "Column names:\n",
        "\n",
        "'Date',\t'High',\tLow,\tOpen,\tOpen_mov,\t'Open_bin',\t'Close',\t'Close_mov',\t'Close_bin',\t'Volume',\t'Volume_mov', Volume_bin', 'Adj Close',\t'rsi',\t'rsi_bin',\t'up_band',\t'mid_band',\t'low_band',\t'bbp',\t'bbp_bin',\t'ma5',\t'ma5_mov',\t'ma5_bin',\t'ma10',\t'ma10_mov',\t'ma10_bin',\t'ma20',\t'ema10',\t'ema10_mov',\t'ema_10_bin',\t'ema20',\t'ema20_mov',\t'ema20_bin',\t'macd12',\t'macd26',\t'macd9',\t'macd',\t'macd_bin',\t'mom',\t'mom_bin'\n",
        "\n",
        "Stanovení Columns, které budou v modelu použity"
      ]
    },
    {
      "cell_type": "code",
      "metadata": {
        "id": "Ki0qPbLvJ801",
        "colab_type": "code",
        "colab": {}
      },
      "source": [
        "#Určit, se kterými proměnnými bude model pracovat, ['Close','Volume','rsi','ma5','ma10','ma20','ema10','ema20','macd','mom']\n",
        "\n",
        "dataset = dataset[['Close','ma5','ma10','ma20']]\n",
        "values = dataset.values"
      ],
      "execution_count": 0,
      "outputs": []
    },
    {
      "cell_type": "markdown",
      "metadata": {
        "id": "jOBAdUkV3d7N",
        "colab_type": "text"
      },
      "source": [
        "Přeměa formátu DataFrame na hodnoty, normalizace hodnot"
      ]
    },
    {
      "cell_type": "code",
      "metadata": {
        "id": "WZAC3UF0JTKZ",
        "colab_type": "code",
        "colab": {}
      },
      "source": [
        "\n",
        "values = values.astype('float32')\n",
        "\n",
        "scaler = MinMaxScaler(feature_range=(0, 1))\n",
        "scaled = scaler.fit_transform(values)"
      ],
      "execution_count": 0,
      "outputs": []
    },
    {
      "cell_type": "code",
      "metadata": {
        "id": "PPf8BdhRL2EI",
        "colab_type": "code",
        "colab": {}
      },
      "source": [
        "# frame as supervised learning\n",
        "reframed = series_to_supervised(scaled, 10, 2)\n",
        "reframed = DataFrame(reframed)"
      ],
      "execution_count": 0,
      "outputs": []
    },
    {
      "cell_type": "markdown",
      "metadata": {
        "id": "Uw5sIA93MAOs",
        "colab_type": "text"
      },
      "source": [
        "Dropping columns not used for y output\n",
        "\n",
        "Dropnout všechny +1, kromě var4(t+1)\n",
        "\n",
        "reframed = reframed.drop(['var1(t+1)', 'var2(t+1)', 'var3(t+1)',\n",
        "                          'var5(t+1)', 'var6(t+1)', 'var7(t+1)',\n",
        "                          'var8(t+1)', 'var9(t+1)', 'var10(t+1)',\n",
        "                          'var11(t+1)', 'var12(t+1)', 'var13(t+1)',\n",
        "                          'var14(t+1)', 'var15(t+1)', 'var16(t+1)',\n",
        "                         'var17(t+1)', 'var18(t+1)', 'var19(t+1)',\n",
        "                          'var20(t+1)'], axis=1)\n",
        "                          \n",
        "                          'var5(t+1)', 'var6(t+1)', 'var7(t+1)',\n",
        "                          'var8(t+1)', 'var9(t+1)', 'var10(t+1)'"
      ]
    },
    {
      "cell_type": "markdown",
      "metadata": {
        "id": "5vDCCAB93p_M",
        "colab_type": "text"
      },
      "source": [
        "Odstranění nepotřebných proměných na konci datasetu ta, aby zbyly pouze ty, ze kterých se síť učí jako poslední"
      ]
    },
    {
      "cell_type": "code",
      "metadata": {
        "id": "GrPHyNeKMOc_",
        "colab_type": "code",
        "colab": {}
      },
      "source": [
        "#Upravit, dropnout správné\n",
        "reframed = reframed.drop(['var4(t+1)', 'var2(t+1)', 'var3(t+1)'], axis=1) "
      ],
      "execution_count": 0,
      "outputs": []
    },
    {
      "cell_type": "markdown",
      "metadata": {
        "id": "jqLYOnnV32_s",
        "colab_type": "text"
      },
      "source": [
        "Oddělení příkladů pro učení od výsledných hodnot - X,Y Reshape na vhodný input"
      ]
    },
    {
      "cell_type": "code",
      "metadata": {
        "id": "5DoevnDRMVzG",
        "colab_type": "code",
        "colab": {}
      },
      "source": [
        "#Časy: 1.1.2008 - 252, konec 2015 - 2266, konec 2017 - 2769 - při 60\n",
        "# split into train and test sets\n",
        "\n",
        "\n",
        "#Čas: 246: 1.1.2008, 2514 - konec 2016\n",
        "\n",
        "train = reframed.values[248:2515, :]\n",
        "validation = reframed.values[2515:2766, :]"
      ],
      "execution_count": 0,
      "outputs": []
    },
    {
      "cell_type": "code",
      "metadata": {
        "id": "q_evFyM2QTM-",
        "colab_type": "code",
        "colab": {}
      },
      "source": [
        "#Train/test - ale je to vlastně train, validation.\n",
        "train_X, train_y = train[:, :-1], train[:, -1]\n",
        "validation_X, validation_y = validation[:, :-1], validation[:, -1]"
      ],
      "execution_count": 0,
      "outputs": []
    },
    {
      "cell_type": "code",
      "metadata": {
        "id": "LcLznF6lOMT7",
        "colab_type": "code",
        "colab": {}
      },
      "source": [
        "# reshape input to be 3D [samples, timesteps, features]\n",
        "# Tuhle část upravit, ověřit, jetsli to dává smysl\n",
        "train_X = train_X.reshape((train_X.shape[0], 1, train_X.shape[1]))\n",
        "validation_X = validation_X.reshape((validation_X.shape[0], 1, validation_X.shape[1]))\n",
        "print(train_X.shape, train_y.shape, validation_X.shape, validation_y.shape)"
      ],
      "execution_count": 0,
      "outputs": []
    },
    {
      "cell_type": "markdown",
      "metadata": {
        "id": "HLionyl_4BCd",
        "colab_type": "text"
      },
      "source": [
        "Architektura modelu C1"
      ]
    },
    {
      "cell_type": "code",
      "metadata": {
        "id": "xyE7Rg7xOl4H",
        "colab_type": "code",
        "colab": {}
      },
      "source": [
        "model = Sequential()\n",
        "model.add(LSTM(50, return_sequences=True, input_shape=(train_X.shape[1], train_X.shape[2])))\n",
        "model.add(Dropout(0.3))\n",
        "model.add(LSTM(units=50))\n",
        "model.add(Dropout(0.1))\n",
        "model.add(Dense(1, activation='sigmoid'))\n",
        "\n",
        "\n",
        "model.compile(loss='binary_crossentropy', optimizer='Adam', metrics=['accuracy'])\n",
        "\n",
        "model.summary()"
      ],
      "execution_count": 0,
      "outputs": []
    },
    {
      "cell_type": "markdown",
      "metadata": {
        "id": "DOGnkEuv4EdA",
        "colab_type": "text"
      },
      "source": [
        "Predikce na validačních datech"
      ]
    },
    {
      "cell_type": "code",
      "metadata": {
        "id": "TSvO2U4KPIIT",
        "colab_type": "code",
        "colab": {}
      },
      "source": [
        "history = model.fit(train_X, train_y, epochs=7, batch_size=20, validation_data=(validation_X, validation_y), verbose=2, shuffle=False)"
      ],
      "execution_count": 0,
      "outputs": []
    },
    {
      "cell_type": "markdown",
      "metadata": {
        "id": "pT2liOcE4QL3",
        "colab_type": "text"
      },
      "source": [
        "Graf fáze učení se neuronové sítě"
      ]
    },
    {
      "cell_type": "code",
      "metadata": {
        "id": "jEDmmG9uPNYO",
        "colab_type": "code",
        "colab": {}
      },
      "source": [
        "pyplot.figure(figsize=(10,6))\n",
        "pyplot.plot(history.history['acc'], label='Train set', color = '#18572D')\n",
        "pyplot.plot(history.history['val_acc'], label='Validation set', color = '#FF9000')\n",
        "pyplot.legend()\n",
        "pyplot.xlabel('Epochs')\n",
        "pyplot.ylabel('KO, Test/Validation Accuracy')\n",
        "pyplot.title('KO Accuracy')\n",
        "pyplot.show()"
      ],
      "execution_count": 0,
      "outputs": []
    },
    {
      "cell_type": "markdown",
      "metadata": {
        "id": "ft2C1PHB4R3o",
        "colab_type": "text"
      },
      "source": [
        "Graf s Validation loss"
      ]
    },
    {
      "cell_type": "code",
      "metadata": {
        "id": "CEufrIY4Q695",
        "colab_type": "code",
        "colab": {}
      },
      "source": [
        "pyplot.figure(figsize=(10,6))\n",
        "pyplot.plot(history.history['loss'], label='Train set', color = '#18572D')\n",
        "pyplot.plot(history.history['val_loss'], label='Validation set', color = '#FF9000')\n",
        "pyplot.legend()\n",
        "pyplot.xlabel('Epochs')\n",
        "pyplot.ylabel('KO, Test/Validation Accuracy')\n",
        "pyplot.title('KO Loss')\n",
        "pyplot.show()"
      ],
      "execution_count": 0,
      "outputs": []
    },
    {
      "cell_type": "markdown",
      "metadata": {
        "id": "_GF7TIXt5Wzx",
        "colab_type": "text"
      },
      "source": [
        "Zobrazení scores"
      ]
    },
    {
      "cell_type": "code",
      "metadata": {
        "id": "-2VWZPxEcJ7Z",
        "colab_type": "code",
        "colab": {}
      },
      "source": [
        "# Final evaluation of the model\n",
        "scores = model.evaluate(validation_X, validation_y, verbose=2)\n",
        "print(\"%.6f\" % (scores[1]))\n",
        "print(\"%.6f\" % (scores[0]))\n"
      ],
      "execution_count": 0,
      "outputs": []
    },
    {
      "cell_type": "markdown",
      "metadata": {
        "id": "ZyuL_Ww25cZB",
        "colab_type": "text"
      },
      "source": [
        "Predikce s neznámými daty - hodnoty nad 0,5 jsou 1, hodnoty pod jsou 0"
      ]
    },
    {
      "cell_type": "code",
      "metadata": {
        "id": "L-_bsVUnRJFG",
        "colab_type": "code",
        "colab": {}
      },
      "source": [
        "yhat_validation = model.predict(validation_X)\n",
        "yhat_validation"
      ],
      "execution_count": 0,
      "outputs": []
    },
    {
      "cell_type": "markdown",
      "metadata": {
        "id": "quN_6J-B5rju",
        "colab_type": "text"
      },
      "source": [
        "### Predikce na nových datech"
      ]
    },
    {
      "cell_type": "code",
      "metadata": {
        "id": "krConTorcrmc",
        "colab_type": "code",
        "colab": {}
      },
      "source": [
        "test_X = test[:, :-1]\n",
        "test_X = test_X.reshape((test_X.shape[0], 1, test_X.shape[1]))\n",
        "\n",
        "print(test_X.shape)\n",
        "\n",
        "yhat = model.predict(test_X)\n",
        "#Výstup\n",
        "yhat"
      ],
      "execution_count": 0,
      "outputs": []
    },
    {
      "cell_type": "markdown",
      "metadata": {
        "id": "ectdNIo457Rs",
        "colab_type": "text"
      },
      "source": [
        "### Převedení výsledku do Excel, aby se s ním dalo nadále pracovat\n"
      ]
    },
    {
      "cell_type": "code",
      "metadata": {
        "id": "ApFY80vFRNJz",
        "colab_type": "code",
        "colab": {}
      },
      "source": [
        "Vysledek = DataFrame(yhat)\n",
        "Vysledek.to_excel('/content/KO_C1_Vysledek.xlsx')\n"
      ],
      "execution_count": 0,
      "outputs": []
    }
  ]
}