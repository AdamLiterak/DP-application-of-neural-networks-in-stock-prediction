{
  "nbformat": 4,
  "nbformat_minor": 0,
  "metadata": {
    "colab": {
      "name": "Kopie souboru R1_FINAL_KO.ipynb",
      "version": "0.3.2",
      "provenance": [],
      "collapsed_sections": [],
      "toc_visible": true
    },
    "kernelspec": {
      "name": "python3",
      "display_name": "Python 3"
    },
    "accelerator": "GPU"
  },
  "cells": [
    {
      "cell_type": "markdown",
      "metadata": {
        "id": "qn8mp4oHrE70",
        "colab_type": "text"
      },
      "source": [
        "## Model R1\n",
        "\n",
        "Model: jednovstupový\n",
        "\n",
        "Data: Close price, 2007 - duben 2019\n",
        "\n",
        "Dataset: aapl_data_2007_2019\n"
      ]
    },
    {
      "cell_type": "markdown",
      "metadata": {
        "id": "S31D20UJsoT1",
        "colab_type": "text"
      },
      "source": [
        "###Sestavení modelu\n",
        "\n",
        "Import potřebných knihoven"
      ]
    },
    {
      "cell_type": "code",
      "metadata": {
        "id": "fiInZFRAr-sR",
        "colab_type": "code",
        "colab": {}
      },
      "source": [
        "from numpy import concatenate\n",
        "from numpy import sqrt\n",
        "from matplotlib import pyplot\n",
        "from pandas import read_csv\n",
        "from pandas import read_excel\n",
        "from pandas import DataFrame\n",
        "from pandas import concat\n",
        "from sklearn.preprocessing import MinMaxScaler\n",
        "from sklearn.preprocessing import LabelEncoder\n",
        "from sklearn.metrics import mean_squared_error\n",
        "from keras.models import Sequential\n",
        "from keras.layers import Dense, Activation, Dropout\n",
        "from keras.layers import LSTM"
      ],
      "execution_count": 0,
      "outputs": []
    },
    {
      "cell_type": "markdown",
      "metadata": {
        "id": "BSPyUIbCtCYu",
        "colab_type": "text"
      },
      "source": [
        "Funkce umožňující přeměnu dat do formátu potřebného pro LSTM síť"
      ]
    },
    {
      "cell_type": "code",
      "metadata": {
        "id": "8o3zoATkvnyt",
        "colab_type": "code",
        "colab": {}
      },
      "source": [
        "def series_to_supervised(data, n_in=1, n_out=1, dropnan=True):\n",
        "\tn_vars = 1 if type(data) is list else data.shape[1]\n",
        "\tdf = DataFrame(data)\n",
        "\tcols, names = list(), list()\n",
        "\t# Vstup\n",
        "\tfor i in range(n_in, 0, -1):\n",
        "\t\tcols.append(df.shift(i))\n",
        "\t\tnames += [('var%d(t-%d)' % (j+1, i)) for j in range(n_vars)]\n",
        "\t# predikce - formát (t, t+1, ... t+n)\n",
        "\tfor i in range(0, n_out):\n",
        "\t\tcols.append(df.shift(-i))\n",
        "\t\tif i == 0:\n",
        "\t\t\tnames += [('var%d(t)' % (j+1)) for j in range(n_vars)]\n",
        "\t\telse:\n",
        "\t\t\tnames += [('var%d(t+%d)' % (j+1, i)) for j in range(n_vars)]\n",
        "\t# spojení dat do souboru\n",
        "\tagg = concat(cols, axis=1)\n",
        "\tagg.columns = names\n",
        "\t# odstranění prázdných proměnných v začátku dat\n",
        "\tif dropnan:\n",
        "\t\tagg.dropna(inplace=True)\n",
        "\treturn agg"
      ],
      "execution_count": 0,
      "outputs": []
    },
    {
      "cell_type": "markdown",
      "metadata": {
        "id": "nGDaJeuxtepx",
        "colab_type": "text"
      },
      "source": [
        "Import dat do prostředí Google Colab"
      ]
    },
    {
      "cell_type": "code",
      "metadata": {
        "id": "6ypdXE4Vv3BU",
        "colab_type": "code",
        "colab": {}
      },
      "source": [
        "dataset = read_excel('zde odkaz na dataset', header=0, index_col=0)\n",
        "dataset = dataset[['Close']]\n",
        "\n",
        "values = dataset.values"
      ],
      "execution_count": 0,
      "outputs": []
    },
    {
      "cell_type": "markdown",
      "metadata": {
        "id": "AB1jNsGHtqBU",
        "colab_type": "text"
      },
      "source": [
        "Přeměa formátu DataFrame na hodnoty, normalizace hodnot"
      ]
    },
    {
      "cell_type": "code",
      "metadata": {
        "id": "J-x_ThWGwDFb",
        "colab_type": "code",
        "colab": {}
      },
      "source": [
        "values = values.astype('float32')\n",
        "\n",
        "# normalizace provedena pomocí MinMaxScaler funkce a přeměna dat\n",
        "\n",
        "scaler = MinMaxScaler(feature_range=(0, 1))\n",
        "scaled = scaler.fit_transform(values)\n",
        "reframed = series_to_supervised(scaled, 5, 2)\n",
        "reframed = DataFrame(reframed)\n"
      ],
      "execution_count": 0,
      "outputs": []
    },
    {
      "cell_type": "markdown",
      "metadata": {
        "id": "Uh2o_VrwuAH2",
        "colab_type": "text"
      },
      "source": [
        "Určení Train/validation/test split"
      ]
    },
    {
      "cell_type": "code",
      "metadata": {
        "id": "I6XQxAPrwVy8",
        "colab_type": "code",
        "colab": {}
      },
      "source": [
        "#Časy: 1.1.2008 - 252, konec 2015 - 2266, konec 2017 - 2769 - při 60\n",
        "# split into train and test sets\n",
        "#Čas: 246: 1.1.2008, 2514 - konec 2016\n",
        "\n",
        "train = reframed.values[248:2515, :]\n",
        "validation = reframed.values[2515:2766, :]"
      ],
      "execution_count": 0,
      "outputs": []
    },
    {
      "cell_type": "markdown",
      "metadata": {
        "id": "67D7j9kNwFdw",
        "colab_type": "text"
      },
      "source": [
        "Oddělení příkladů pro učení od výsledných hodnot - X,Y\n",
        "Reshape na vhodný input"
      ]
    },
    {
      "cell_type": "code",
      "metadata": {
        "id": "4aRSINAWwXFa",
        "colab_type": "code",
        "colab": {}
      },
      "source": [
        "train_X, train_y = train[:, :-1], train[:, -1]\n",
        "validation_X, validation_y = validation[:, :-1], validation[:, -1]"
      ],
      "execution_count": 0,
      "outputs": []
    },
    {
      "cell_type": "code",
      "metadata": {
        "id": "JNWYgQs-z-Zm",
        "colab_type": "code",
        "outputId": "f2420584-963d-4e02-fc19-a8b256ee51f4",
        "colab": {
          "base_uri": "https://localhost:8080/",
          "height": 34
        }
      },
      "source": [
        "train_X = train_X.reshape((train_X.shape[0], 1, train_X.shape[1]))\n",
        "validation_X = validation_X.reshape((validation_X.shape[0], 1, validation_X.shape[1]))\n",
        "print(train_X.shape, train_y.shape, validation_X.shape, validation_y.shape)"
      ],
      "execution_count": 0,
      "outputs": [
        {
          "output_type": "stream",
          "text": [
            "(2267, 1, 6) (2267,) (251, 1, 6) (251,)\n"
          ],
          "name": "stdout"
        }
      ]
    },
    {
      "cell_type": "markdown",
      "metadata": {
        "id": "KWn5Q6-QwahP",
        "colab_type": "text"
      },
      "source": [
        "Architektura LSTM sítě"
      ]
    },
    {
      "cell_type": "code",
      "metadata": {
        "id": "oac34-k40FEQ",
        "colab_type": "code",
        "colab": {}
      },
      "source": [
        "model = Sequential()\n",
        "model.add(LSTM(200, input_shape=(train_X.shape[1], train_X.shape[2])))\n",
        "model.add(Dropout(0.2, noise_shape=None, seed=None))\n",
        "model.add(Dense(1))\n",
        "model.compile(loss='mae', optimizer='SGD')\n",
        "model.summary()"
      ],
      "execution_count": 0,
      "outputs": []
    },
    {
      "cell_type": "markdown",
      "metadata": {
        "id": "hA1vmM6Dwn23",
        "colab_type": "text"
      },
      "source": [
        "Spuštění trnování sítě na určených datech"
      ]
    },
    {
      "cell_type": "code",
      "metadata": {
        "id": "G7UOau710UO7",
        "colab_type": "code",
        "colab": {}
      },
      "source": [
        "history = model.fit(train_X, train_y, epochs=250, batch_size=110, validation_data=(validation_X, validation_y), verbose=2, shuffle=False)"
      ],
      "execution_count": 0,
      "outputs": []
    },
    {
      "cell_type": "markdown",
      "metadata": {
        "id": "FKnPJK2nwyjB",
        "colab_type": "text"
      },
      "source": [
        "Graf fáze učení se neuronové sítě"
      ]
    },
    {
      "cell_type": "code",
      "metadata": {
        "id": "Fs0T_V9mfOQN",
        "colab_type": "code",
        "colab": {}
      },
      "source": [
        "pyplot.figure(figsize=(10,6))\n",
        "pyplot.plot(history.history['loss'], label='Train set', color = '#18572D')\n",
        "pyplot.plot(history.history['val_loss'], label='Validation set', color = '#FF9000')\n",
        "pyplot.legend()\n",
        "pyplot.xlabel('Epochs')\n",
        "pyplot.ylabel('Test/Validation Loss')\n",
        "pyplot.show()"
      ],
      "execution_count": 0,
      "outputs": []
    },
    {
      "cell_type": "markdown",
      "metadata": {
        "id": "HV_zv9zbw8zF",
        "colab_type": "text"
      },
      "source": [
        "Nasazení na Validation data"
      ]
    },
    {
      "cell_type": "code",
      "metadata": {
        "id": "whSb55HX1H4u",
        "colab_type": "code",
        "colab": {}
      },
      "source": [
        "yhat_validation = model.predict(validation_X)"
      ],
      "execution_count": 0,
      "outputs": []
    },
    {
      "cell_type": "markdown",
      "metadata": {
        "id": "f52EcdH8xCTg",
        "colab_type": "text"
      },
      "source": [
        "Přeměna dat zpět na původní tvar"
      ]
    },
    {
      "cell_type": "code",
      "metadata": {
        "id": "3RQE3gr81PO5",
        "colab_type": "code",
        "colab": {}
      },
      "source": [
        "# Přeměna zpět\n",
        "validation_X = validation_X.reshape((validation_X.shape[0], validation_X.shape[2]))"
      ],
      "execution_count": 0,
      "outputs": []
    },
    {
      "cell_type": "code",
      "metadata": {
        "id": "pHx62NAg1UWC",
        "colab_type": "code",
        "colab": {}
      },
      "source": [
        "\n",
        "inv_yhat_validation = concatenate((yhat_validation, validation_X[:,1:]), axis=1)\n",
        "\n",
        "inv_yhat_validation = scaler.inverse_transform(inv_yhat_validation)\n",
        "inv_yhat_validation = inv_yhat_validation[:,0]"
      ],
      "execution_count": 0,
      "outputs": []
    },
    {
      "cell_type": "code",
      "metadata": {
        "id": "c_BNIqNx1b89",
        "colab_type": "code",
        "colab": {}
      },
      "source": [
        "# převrácená normalizac dat\n",
        "validation_y = validation_y.reshape((len(validation_y), 1))\n",
        "inv_y_validation = concatenate((validation_y, validation_X[:, 1:]), axis=1)\n",
        "inv_y_validation = scaler.inverse_transform(inv_y_validation)\n",
        "inv_y_validation = inv_y_validation[:,0]"
      ],
      "execution_count": 0,
      "outputs": []
    },
    {
      "cell_type": "markdown",
      "metadata": {
        "id": "VVhnBIYlxNu6",
        "colab_type": "text"
      },
      "source": [
        "Výpočet RMSE na validačních datech"
      ]
    },
    {
      "cell_type": "code",
      "metadata": {
        "id": "C9M2x-i91fXe",
        "colab_type": "code",
        "outputId": "f8acda6b-150b-443a-cbf0-d1022c7e7a0d",
        "colab": {
          "base_uri": "https://localhost:8080/",
          "height": 34
        }
      },
      "source": [
        "# cRMSE výpočet\n",
        "rmse = sqrt(mean_squared_error(inv_y_validation, inv_yhat_validation))\n",
        "print('Test RMSE: %.3f' % rmse)"
      ],
      "execution_count": 0,
      "outputs": [
        {
          "output_type": "stream",
          "text": [
            "Test RMSE: 0.377\n"
          ],
          "name": "stdout"
        }
      ]
    },
    {
      "cell_type": "markdown",
      "metadata": {
        "id": "VizdgxGC4ecM",
        "colab_type": "text"
      },
      "source": [
        "Zobrazení na grafu"
      ]
    },
    {
      "cell_type": "code",
      "metadata": {
        "id": "Ik8HSBTr8pEe",
        "colab_type": "code",
        "colab": {}
      },
      "source": [
        "pyplot.figure(figsize=(15,6))\n",
        "pyplot.plot(inv_y_validation, color = '#18572D')\n",
        "pyplot.plot(inv_yhat_validation, color = '#FF9000')\n",
        "pyplot.legend(loc=\"upper left\")\n",
        "pyplot.xlabel('Time')\n",
        "pyplot.ylabel('DIS Price/Predicted price')\n",
        "pyplot.title('DIS Predicted Price')\n",
        "pyplot.show()"
      ],
      "execution_count": 0,
      "outputs": []
    },
    {
      "cell_type": "markdown",
      "metadata": {
        "id": "yuRAhnJSuz1z",
        "colab_type": "text"
      },
      "source": [
        "### Predikce na nových datech"
      ]
    },
    {
      "cell_type": "code",
      "metadata": {
        "id": "P14eqAkJ1lqJ",
        "colab_type": "code",
        "colab": {}
      },
      "source": [
        "#Určení nových dat\n",
        "test = reframed.values[2763:, :]"
      ],
      "execution_count": 0,
      "outputs": []
    },
    {
      "cell_type": "code",
      "metadata": {
        "id": "hAftGNVB3hrr",
        "colab_type": "code",
        "colab": {}
      },
      "source": [
        "#Příprava, jen hodnoty X, y neznám\n",
        "test_X = test[:, :-1]"
      ],
      "execution_count": 0,
      "outputs": []
    },
    {
      "cell_type": "code",
      "metadata": {
        "id": "E8hshzAy4KsA",
        "colab_type": "code",
        "outputId": "9297831d-caaf-43c4-adb2-dc66a3cc016e",
        "colab": {
          "base_uri": "https://localhost:8080/",
          "height": 34
        }
      },
      "source": [
        "#reshaping\n",
        "test_X = test_X.reshape((test_X.shape[0], 1, test_X.shape[1]))\n",
        "print(test_X.shape)"
      ],
      "execution_count": 0,
      "outputs": [
        {
          "output_type": "stream",
          "text": [
            "(312, 1, 6)\n"
          ],
          "name": "stdout"
        }
      ]
    },
    {
      "cell_type": "markdown",
      "metadata": {
        "id": "WFwMJxkwxuHC",
        "colab_type": "text"
      },
      "source": [
        "Predikování na natrénovaném modelu"
      ]
    },
    {
      "cell_type": "code",
      "metadata": {
        "id": "6pyEoSZQ4zyx",
        "colab_type": "code",
        "colab": {}
      },
      "source": [
        "#Predikce zde\n",
        "yhat = model.predict(test_X)"
      ],
      "execution_count": 0,
      "outputs": []
    },
    {
      "cell_type": "markdown",
      "metadata": {
        "id": "rP9Lv9SXx2F-",
        "colab_type": "text"
      },
      "source": [
        "Přeměna tvaru predikovaných hodnot na původní škálu a zobrazení na grafu"
      ]
    },
    {
      "cell_type": "code",
      "metadata": {
        "id": "lJi8LbvC490V",
        "colab_type": "code",
        "colab": {}
      },
      "source": [
        "# Tohle háže test zpět do původního shape\n",
        "test_X = test_X.reshape((test_X.shape[0], test_X.shape[2]))\n",
        "inv_yhat = concatenate((yhat, test_X[:,1:]), axis=1)\n",
        "inv_yhat = scaler.inverse_transform(inv_yhat)\n",
        "inv_yhat = inv_yhat[:,0]\n",
        "\n",
        "pyplot.plot(inv_yhat)"
      ],
      "execution_count": 0,
      "outputs": []
    },
    {
      "cell_type": "code",
      "metadata": {
        "id": "1SfwR_b76YQJ",
        "colab_type": "code",
        "colab": {}
      },
      "source": [
        "real_data = dataset[['Close']].iloc[2769:].values"
      ],
      "execution_count": 0,
      "outputs": []
    },
    {
      "cell_type": "code",
      "metadata": {
        "id": "fjUogkAo6xEW",
        "colab_type": "code",
        "colab": {}
      },
      "source": [
        "#Tvar dat\n",
        "real_data.shape"
      ],
      "execution_count": 0,
      "outputs": []
    },
    {
      "cell_type": "markdown",
      "metadata": {
        "id": "jMlP9VMOzbqr",
        "colab_type": "text"
      },
      "source": [
        "Graf zobrazující reálné hodnoty a hodnoty predikované na nových datech"
      ]
    },
    {
      "cell_type": "code",
      "metadata": {
        "id": "jED2zHe56x0b",
        "colab_type": "code",
        "colab": {}
      },
      "source": [
        "pyplot.figure(figsize=(15,6))\n",
        "pyplot.plot(inv_yhat, color = '#FF9000')\n",
        "pyplot.plot(real_data, color = '#18572D' )\n",
        "pyplot.xlabel('Time')\n",
        "pyplot.ylabel('KO Price/Predicted price')\n",
        "pyplot.title('KO Predicted Price')\n",
        "pyplot.show()"
      ],
      "execution_count": 0,
      "outputs": []
    },
    {
      "cell_type": "markdown",
      "metadata": {
        "id": "hlF5dpDczjXA",
        "colab_type": "text"
      },
      "source": [
        "Výpočet RMSE - nová data"
      ]
    },
    {
      "cell_type": "code",
      "metadata": {
        "id": "RbO_ibSixxUk",
        "colab_type": "code",
        "colab": {}
      },
      "source": [
        "# RMSE\n",
        "rmse = sqrt(mean_squared_error(real_data, inv_yhat))\n",
        "print('Test RMSE: %.3f' % rmse)"
      ],
      "execution_count": 0,
      "outputs": []
    },
    {
      "cell_type": "markdown",
      "metadata": {
        "id": "UETOvX_31QKx",
        "colab_type": "text"
      },
      "source": [
        "###Export výsledku do Excelu"
      ]
    },
    {
      "cell_type": "code",
      "metadata": {
        "id": "UJWzL3B0JD2F",
        "colab_type": "code",
        "colab": {}
      },
      "source": [
        "Vysledek = DataFrame(inv_yhat)\n",
        "Vysledek.to_excel('/content/KO_R1_Vysledek.xls')"
      ],
      "execution_count": 0,
      "outputs": []
    }
  ]
}