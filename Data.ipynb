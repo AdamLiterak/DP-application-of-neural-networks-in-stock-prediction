{
  "nbformat": 4,
  "nbformat_minor": 0,
  "metadata": {
    "colab": {
      "name": "Data.ipynb",
      "version": "0.3.2",
      "provenance": [],
      "collapsed_sections": []
    },
    "kernelspec": {
      "name": "python3",
      "display_name": "Python 3"
    },
    "accelerator": "GPU"
  },
  "cells": [
    {
      "cell_type": "markdown",
      "metadata": {
        "id": "1nRIkqWNEHao",
        "colab_type": "text"
      },
      "source": [
        "##Získání dat"
      ]
    },
    {
      "cell_type": "markdown",
      "metadata": {
        "id": "ei13GrmyEObw",
        "colab_type": "text"
      },
      "source": [
        "Stahování dependencies z důvodu spuštění TA-Lib - stahovní technických indikátorů"
      ]
    },
    {
      "cell_type": "code",
      "metadata": {
        "id": "dqTcv2bqgi5n",
        "colab_type": "code",
        "colab": {}
      },
      "source": [
        "!wget http://prdownloads.sourceforge.net/ta-lib/ta-lib-0.4.0-src.tar.gz\n",
        "!tar -xzvf ta-lib-0.4.0-src.tar.gz\n",
        "%cd ta-lib\n",
        "!./configure --prefix=/usr\n",
        "!make\n",
        "!make install\n",
        "!pip install Ta-Lib\n",
        "import talib"
      ],
      "execution_count": 0,
      "outputs": []
    },
    {
      "cell_type": "markdown",
      "metadata": {
        "id": "silFm1TlEYYB",
        "colab_type": "text"
      },
      "source": [
        "Import potřebných knihoven"
      ]
    },
    {
      "cell_type": "code",
      "metadata": {
        "id": "qml3ME9BgoiT",
        "colab_type": "code",
        "colab": {}
      },
      "source": [
        "import pandas_datareader.data as web\n",
        "import pandas as pd\n",
        "import numpy as np\n",
        "from talib import RSI, BBANDS, MA, MACD, EMA, MOM, STOCH\n",
        "import matplotlib.pyplot as plt"
      ],
      "execution_count": 0,
      "outputs": []
    },
    {
      "cell_type": "markdown",
      "metadata": {
        "id": "j1QETCX7EaxR",
        "colab_type": "text"
      },
      "source": [
        "Definice stahovaných dat pomocí tickeru"
      ]
    },
    {
      "cell_type": "code",
      "metadata": {
        "id": "Al8A6LeWhGYP",
        "colab_type": "code",
        "colab": {}
      },
      "source": [
        "start = '2007-01-1'\n",
        "end = '2019-03-31'\n",
        "symbol = 'DIS'"
      ],
      "execution_count": 0,
      "outputs": []
    },
    {
      "cell_type": "code",
      "metadata": {
        "id": "uUriaWcM2c0m",
        "colab_type": "code",
        "colab": {}
      },
      "source": [
        "max_holding = 100\n",
        "price = web.DataReader(name=symbol, data_source='yahoo', start=start, end=end)\n",
        "price = price.dropna()\n",
        "close = price['Close']"
      ],
      "execution_count": 0,
      "outputs": []
    },
    {
      "cell_type": "markdown",
      "metadata": {
        "id": "dOYkVsM2EjuJ",
        "colab_type": "text"
      },
      "source": [
        "Dále definování jednotlivých indikátorů a tvorba Pandas DataFrame, který je bude obsahovat"
      ]
    },
    {
      "cell_type": "code",
      "metadata": {
        "id": "o3tIo2Q6hYoR",
        "colab_type": "code",
        "colab": {}
      },
      "source": [
        "#RSI, BBANDS\n",
        "#Stejně tak BBANDS? upravit do jednoho čísla?\n",
        "up, mid, low = BBANDS(close, timeperiod=20, nbdevup=2, nbdevdn=2, matype=0)\n",
        "rsi = RSI(close, timeperiod=14)"
      ],
      "execution_count": 0,
      "outputs": []
    },
    {
      "cell_type": "code",
      "metadata": {
        "id": "ahYWqT-p2ud-",
        "colab_type": "code",
        "colab": {}
      },
      "source": [
        "#Moving averages\n",
        "ma5 = MA(close, timeperiod=5)\n",
        "ma10 = MA(close, timeperiod=10)\n",
        "ma20 = MA(close, timeperiod=20)\n",
        "ema10 = EMA(close, timeperiod=10)\n",
        "ema20 = EMA(close, timeperiod=20)"
      ],
      "execution_count": 0,
      "outputs": []
    },
    {
      "cell_type": "code",
      "metadata": {
        "id": "Fe9ycRAS2yhe",
        "colab_type": "code",
        "colab": {}
      },
      "source": [
        "#Musím ještě upravit do jednoho čísla? -přepočítává to jako macd12-macd26 (to je vlastně ema)\n",
        "macd12, macd26, macd9 = MACD(close, fastperiod=12, slowperiod=26, signalperiod=9)\n",
        "macd = macd12 - macd9\n",
        "mom = MOM(close, timeperiod=10)"
      ],
      "execution_count": 0,
      "outputs": []
    },
    {
      "cell_type": "code",
      "metadata": {
        "id": "ZjdfFd7q27o7",
        "colab_type": "code",
        "colab": {}
      },
      "source": [
        "#RSI to df\n",
        "rsi_df = pd.DataFrame(rsi, columns=['rsi'])\n",
        "\n",
        "#BBANDS to df\n",
        "up_df = pd.DataFrame(up, columns=['up_band'])\n",
        "mid_df = pd.DataFrame(mid, columns=['mid_band'])\n",
        "low_df = pd.DataFrame(low, columns=['low_band'])\n",
        "\n",
        "#MAs to df\n",
        "ma5_df = pd.DataFrame(ma5, columns=['ma5'])\n",
        "ma10_df = pd.DataFrame(ma10, columns=['ma10'])\n",
        "ma20_df = pd.DataFrame(ma20, columns=['ma20'])\n",
        "\n",
        "#EMA to df\n",
        "ema10_df = pd.DataFrame(ema10, columns=['ema10'])\n",
        "ema20_df = pd.DataFrame(ema20, columns=['ema20'])\n",
        "\n",
        "#MACD\n",
        "macd12_df = pd.DataFrame(macd12, columns=['macd12'])\n",
        "macd26_df = pd.DataFrame(macd26, columns=['macd26'])\n",
        "macd9_df = pd.DataFrame(macd9, columns=['macd9'])\n",
        "macd_df = pd.DataFrame(macd, columns=['macd'])\n",
        "\n",
        "#Mom to df\n",
        "mom_df = pd.DataFrame(mom, columns=['mom'])"
      ],
      "execution_count": 0,
      "outputs": []
    },
    {
      "cell_type": "code",
      "metadata": {
        "id": "FVDkgcf42_9d",
        "colab_type": "code",
        "colab": {}
      },
      "source": [
        "#FULL DATASET\n",
        "aapl_dataset = pd.concat([price,rsi_df,up_df,mid_df,low_df,ma5_df,ma10_df,ma20_df,\n",
        "                          ema10_df,ema20_df,macd12_df,macd26_df,macd9_df,macd_df,\n",
        "                          mom_df], axis=1)"
      ],
      "execution_count": 0,
      "outputs": []
    },
    {
      "cell_type": "markdown",
      "metadata": {
        "id": "Fg9KTE6gEs3e",
        "colab_type": "text"
      },
      "source": [
        "Export datového souboru"
      ]
    },
    {
      "cell_type": "code",
      "metadata": {
        "id": "BTwjmW0y3ECp",
        "colab_type": "code",
        "colab": {}
      },
      "source": [
        "\n",
        "aapl_dataset.to_excel('/content/DIS_dataset.xlsx')"
      ],
      "execution_count": 0,
      "outputs": []
    }
  ]
}